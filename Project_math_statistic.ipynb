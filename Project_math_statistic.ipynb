{
 "cells": [
  {
   "cell_type": "markdown",
   "metadata": {},
   "source": [
    "В данном датасете мы рассмотрим данные о 5000 кинофильмах с портала tmdb. В данном датасете будет проведен анализ данных с целью поиска ответов на следующие вопросы:\n",
    "\n",
    "1. Какой самый популярный киножанр до 1990 года / после 1990 года\n",
    "2. Действительно ли фильмы современного популярного до 1990 года были лучше, то есть имеет больший средний рейтинг\n",
    "3. Как можно предсказать уровень доходности фильма"
   ]
  },
  {
   "cell_type": "code",
   "execution_count": 1,
   "metadata": {},
   "outputs": [],
   "source": [
    "import json\n",
    "import numpy as np\n",
    "import pandas as pd\n",
    "import matplotlib.pyplot as plt\n",
    "import seaborn as sns\n",
    "\n",
    "%matplotlib inline"
   ]
  },
  {
   "cell_type": "markdown",
   "metadata": {},
   "source": [
    "Загрузим датасет из портала tmbd. Часть данных в датасете представлена в виде json структуры, которую необходимо распарсить и представить в виде строки с разделителями"
   ]
  },
  {
   "cell_type": "code",
   "execution_count": 2,
   "metadata": {},
   "outputs": [],
   "source": [
    "def pipe_flatten_names(column):\n",
    "    \"\"\"Функция принимает столбец данных распарсенного json словаря\n",
    "    выделяет совйство name и записывает значение в строку с разделителем |\n",
    "    если таких несколько\"\"\"\n",
    "    \n",
    "    return '|'.join([x['name'] for x in column])"
   ]
  },
  {
   "cell_type": "code",
   "execution_count": 3,
   "metadata": {},
   "outputs": [],
   "source": [
    "def load_tmdb_movies(path):\n",
    "    \"\"\"Функция загружает датасет, преобразовывает датру,\n",
    "    парсит json словарь и сохраняет данные в датафрейм\"\"\"\n",
    "    \n",
    "    df = pd.read_csv(path)\n",
    "    df['release_date'] = pd.to_datetime(df['release_date']).apply(lambda x: x.date())\n",
    "    json_columns = ['genres', 'keywords', 'production_countries',\n",
    "                   'production_companies', 'spoken_languages']\n",
    "    for column in json_columns:\n",
    "        df[column] = df[column].apply(json.loads)\n",
    "        df[column] = df[column].apply(pipe_flatten_names)\n",
    "    return df"
   ]
  },
  {
   "cell_type": "code",
   "execution_count": 4,
   "metadata": {},
   "outputs": [],
   "source": [
    "data = load_tmdb_movies('tmdb_5000_movies.csv')"
   ]
  },
  {
   "cell_type": "code",
   "execution_count": 5,
   "metadata": {},
   "outputs": [
    {
     "data": {
      "text/html": [
       "<div>\n",
       "<style scoped>\n",
       "    .dataframe tbody tr th:only-of-type {\n",
       "        vertical-align: middle;\n",
       "    }\n",
       "\n",
       "    .dataframe tbody tr th {\n",
       "        vertical-align: top;\n",
       "    }\n",
       "\n",
       "    .dataframe thead th {\n",
       "        text-align: right;\n",
       "    }\n",
       "</style>\n",
       "<table border=\"1\" class=\"dataframe\">\n",
       "  <thead>\n",
       "    <tr style=\"text-align: right;\">\n",
       "      <th></th>\n",
       "      <th>budget</th>\n",
       "      <th>genres</th>\n",
       "      <th>homepage</th>\n",
       "      <th>id</th>\n",
       "      <th>keywords</th>\n",
       "      <th>original_language</th>\n",
       "      <th>original_title</th>\n",
       "      <th>overview</th>\n",
       "      <th>popularity</th>\n",
       "      <th>production_companies</th>\n",
       "      <th>production_countries</th>\n",
       "      <th>release_date</th>\n",
       "      <th>revenue</th>\n",
       "      <th>runtime</th>\n",
       "      <th>spoken_languages</th>\n",
       "      <th>status</th>\n",
       "      <th>tagline</th>\n",
       "      <th>title</th>\n",
       "      <th>vote_average</th>\n",
       "      <th>vote_count</th>\n",
       "    </tr>\n",
       "  </thead>\n",
       "  <tbody>\n",
       "    <tr>\n",
       "      <th>0</th>\n",
       "      <td>237000000</td>\n",
       "      <td>Action|Adventure|Fantasy|Science Fiction</td>\n",
       "      <td>http://www.avatarmovie.com/</td>\n",
       "      <td>19995</td>\n",
       "      <td>culture clash|future|space war|space colony|so...</td>\n",
       "      <td>en</td>\n",
       "      <td>Avatar</td>\n",
       "      <td>In the 22nd century, a paraplegic Marine is di...</td>\n",
       "      <td>150.437577</td>\n",
       "      <td>Ingenious Film Partners|Twentieth Century Fox ...</td>\n",
       "      <td>United States of America|United Kingdom</td>\n",
       "      <td>2009-12-10</td>\n",
       "      <td>2787965087</td>\n",
       "      <td>162.0</td>\n",
       "      <td>English|Español</td>\n",
       "      <td>Released</td>\n",
       "      <td>Enter the World of Pandora.</td>\n",
       "      <td>Avatar</td>\n",
       "      <td>7.2</td>\n",
       "      <td>11800</td>\n",
       "    </tr>\n",
       "    <tr>\n",
       "      <th>1</th>\n",
       "      <td>300000000</td>\n",
       "      <td>Adventure|Fantasy|Action</td>\n",
       "      <td>http://disney.go.com/disneypictures/pirates/</td>\n",
       "      <td>285</td>\n",
       "      <td>ocean|drug abuse|exotic island|east india trad...</td>\n",
       "      <td>en</td>\n",
       "      <td>Pirates of the Caribbean: At World's End</td>\n",
       "      <td>Captain Barbossa, long believed to be dead, ha...</td>\n",
       "      <td>139.082615</td>\n",
       "      <td>Walt Disney Pictures|Jerry Bruckheimer Films|S...</td>\n",
       "      <td>United States of America</td>\n",
       "      <td>2007-05-19</td>\n",
       "      <td>961000000</td>\n",
       "      <td>169.0</td>\n",
       "      <td>English</td>\n",
       "      <td>Released</td>\n",
       "      <td>At the end of the world, the adventure begins.</td>\n",
       "      <td>Pirates of the Caribbean: At World's End</td>\n",
       "      <td>6.9</td>\n",
       "      <td>4500</td>\n",
       "    </tr>\n",
       "    <tr>\n",
       "      <th>2</th>\n",
       "      <td>245000000</td>\n",
       "      <td>Action|Adventure|Crime</td>\n",
       "      <td>http://www.sonypictures.com/movies/spectre/</td>\n",
       "      <td>206647</td>\n",
       "      <td>spy|based on novel|secret agent|sequel|mi6|bri...</td>\n",
       "      <td>en</td>\n",
       "      <td>Spectre</td>\n",
       "      <td>A cryptic message from Bond’s past sends him o...</td>\n",
       "      <td>107.376788</td>\n",
       "      <td>Columbia Pictures|Danjaq|B24</td>\n",
       "      <td>United Kingdom|United States of America</td>\n",
       "      <td>2015-10-26</td>\n",
       "      <td>880674609</td>\n",
       "      <td>148.0</td>\n",
       "      <td>Français|English|Español|Italiano|Deutsch</td>\n",
       "      <td>Released</td>\n",
       "      <td>A Plan No One Escapes</td>\n",
       "      <td>Spectre</td>\n",
       "      <td>6.3</td>\n",
       "      <td>4466</td>\n",
       "    </tr>\n",
       "    <tr>\n",
       "      <th>3</th>\n",
       "      <td>250000000</td>\n",
       "      <td>Action|Crime|Drama|Thriller</td>\n",
       "      <td>http://www.thedarkknightrises.com/</td>\n",
       "      <td>49026</td>\n",
       "      <td>dc comics|crime fighter|terrorist|secret ident...</td>\n",
       "      <td>en</td>\n",
       "      <td>The Dark Knight Rises</td>\n",
       "      <td>Following the death of District Attorney Harve...</td>\n",
       "      <td>112.312950</td>\n",
       "      <td>Legendary Pictures|Warner Bros.|DC Entertainme...</td>\n",
       "      <td>United States of America</td>\n",
       "      <td>2012-07-16</td>\n",
       "      <td>1084939099</td>\n",
       "      <td>165.0</td>\n",
       "      <td>English</td>\n",
       "      <td>Released</td>\n",
       "      <td>The Legend Ends</td>\n",
       "      <td>The Dark Knight Rises</td>\n",
       "      <td>7.6</td>\n",
       "      <td>9106</td>\n",
       "    </tr>\n",
       "    <tr>\n",
       "      <th>4</th>\n",
       "      <td>260000000</td>\n",
       "      <td>Action|Adventure|Science Fiction</td>\n",
       "      <td>http://movies.disney.com/john-carter</td>\n",
       "      <td>49529</td>\n",
       "      <td>based on novel|mars|medallion|space travel|pri...</td>\n",
       "      <td>en</td>\n",
       "      <td>John Carter</td>\n",
       "      <td>John Carter is a war-weary, former military ca...</td>\n",
       "      <td>43.926995</td>\n",
       "      <td>Walt Disney Pictures</td>\n",
       "      <td>United States of America</td>\n",
       "      <td>2012-03-07</td>\n",
       "      <td>284139100</td>\n",
       "      <td>132.0</td>\n",
       "      <td>English</td>\n",
       "      <td>Released</td>\n",
       "      <td>Lost in our world, found in another.</td>\n",
       "      <td>John Carter</td>\n",
       "      <td>6.1</td>\n",
       "      <td>2124</td>\n",
       "    </tr>\n",
       "  </tbody>\n",
       "</table>\n",
       "</div>"
      ],
      "text/plain": [
       "      budget                                    genres  \\\n",
       "0  237000000  Action|Adventure|Fantasy|Science Fiction   \n",
       "1  300000000                  Adventure|Fantasy|Action   \n",
       "2  245000000                    Action|Adventure|Crime   \n",
       "3  250000000               Action|Crime|Drama|Thriller   \n",
       "4  260000000          Action|Adventure|Science Fiction   \n",
       "\n",
       "                                       homepage      id  \\\n",
       "0                   http://www.avatarmovie.com/   19995   \n",
       "1  http://disney.go.com/disneypictures/pirates/     285   \n",
       "2   http://www.sonypictures.com/movies/spectre/  206647   \n",
       "3            http://www.thedarkknightrises.com/   49026   \n",
       "4          http://movies.disney.com/john-carter   49529   \n",
       "\n",
       "                                            keywords original_language  \\\n",
       "0  culture clash|future|space war|space colony|so...                en   \n",
       "1  ocean|drug abuse|exotic island|east india trad...                en   \n",
       "2  spy|based on novel|secret agent|sequel|mi6|bri...                en   \n",
       "3  dc comics|crime fighter|terrorist|secret ident...                en   \n",
       "4  based on novel|mars|medallion|space travel|pri...                en   \n",
       "\n",
       "                             original_title  \\\n",
       "0                                    Avatar   \n",
       "1  Pirates of the Caribbean: At World's End   \n",
       "2                                   Spectre   \n",
       "3                     The Dark Knight Rises   \n",
       "4                               John Carter   \n",
       "\n",
       "                                            overview  popularity  \\\n",
       "0  In the 22nd century, a paraplegic Marine is di...  150.437577   \n",
       "1  Captain Barbossa, long believed to be dead, ha...  139.082615   \n",
       "2  A cryptic message from Bond’s past sends him o...  107.376788   \n",
       "3  Following the death of District Attorney Harve...  112.312950   \n",
       "4  John Carter is a war-weary, former military ca...   43.926995   \n",
       "\n",
       "                                production_companies  \\\n",
       "0  Ingenious Film Partners|Twentieth Century Fox ...   \n",
       "1  Walt Disney Pictures|Jerry Bruckheimer Films|S...   \n",
       "2                       Columbia Pictures|Danjaq|B24   \n",
       "3  Legendary Pictures|Warner Bros.|DC Entertainme...   \n",
       "4                               Walt Disney Pictures   \n",
       "\n",
       "                      production_countries release_date     revenue  runtime  \\\n",
       "0  United States of America|United Kingdom   2009-12-10  2787965087    162.0   \n",
       "1                 United States of America   2007-05-19   961000000    169.0   \n",
       "2  United Kingdom|United States of America   2015-10-26   880674609    148.0   \n",
       "3                 United States of America   2012-07-16  1084939099    165.0   \n",
       "4                 United States of America   2012-03-07   284139100    132.0   \n",
       "\n",
       "                            spoken_languages    status  \\\n",
       "0                            English|Español  Released   \n",
       "1                                    English  Released   \n",
       "2  Français|English|Español|Italiano|Deutsch  Released   \n",
       "3                                    English  Released   \n",
       "4                                    English  Released   \n",
       "\n",
       "                                          tagline  \\\n",
       "0                     Enter the World of Pandora.   \n",
       "1  At the end of the world, the adventure begins.   \n",
       "2                           A Plan No One Escapes   \n",
       "3                                 The Legend Ends   \n",
       "4            Lost in our world, found in another.   \n",
       "\n",
       "                                      title  vote_average  vote_count  \n",
       "0                                    Avatar           7.2       11800  \n",
       "1  Pirates of the Caribbean: At World's End           6.9        4500  \n",
       "2                                   Spectre           6.3        4466  \n",
       "3                     The Dark Knight Rises           7.6        9106  \n",
       "4                               John Carter           6.1        2124  "
      ]
     },
     "execution_count": 5,
     "metadata": {},
     "output_type": "execute_result"
    }
   ],
   "source": [
    "data.head()"
   ]
  },
  {
   "cell_type": "code",
   "execution_count": 6,
   "metadata": {},
   "outputs": [
    {
     "name": "stdout",
     "output_type": "stream",
     "text": [
      "<class 'pandas.core.frame.DataFrame'>\n",
      "RangeIndex: 4803 entries, 0 to 4802\n",
      "Data columns (total 20 columns):\n",
      "budget                  4803 non-null int64\n",
      "genres                  4803 non-null object\n",
      "homepage                1712 non-null object\n",
      "id                      4803 non-null int64\n",
      "keywords                4803 non-null object\n",
      "original_language       4803 non-null object\n",
      "original_title          4803 non-null object\n",
      "overview                4800 non-null object\n",
      "popularity              4803 non-null float64\n",
      "production_companies    4803 non-null object\n",
      "production_countries    4803 non-null object\n",
      "release_date            4802 non-null object\n",
      "revenue                 4803 non-null int64\n",
      "runtime                 4801 non-null float64\n",
      "spoken_languages        4803 non-null object\n",
      "status                  4803 non-null object\n",
      "tagline                 3959 non-null object\n",
      "title                   4803 non-null object\n",
      "vote_average            4803 non-null float64\n",
      "vote_count              4803 non-null int64\n",
      "dtypes: float64(3), int64(4), object(13)\n",
      "memory usage: 750.5+ KB\n"
     ]
    }
   ],
   "source": [
    "data.info()"
   ]
  },
  {
   "cell_type": "markdown",
   "metadata": {},
   "source": [
    "Датасет содержит много тестовых значений. Для нашей задачи выявления самых популярных жанров необходимо преобразовать данные по жанрам и выделить год из даты. Для того, чтобы построить статистику по жанрам выделим уникальные значения жанров и преобразуем их в one-hot столбцы, где для каждого жанра определяется соответствие фильма жанру (значение 1) или не соответствует (хначение 0)"
   ]
  },
  {
   "cell_type": "code",
   "execution_count": 7,
   "metadata": {},
   "outputs": [],
   "source": [
    "def get_year(date):\n",
    "    return date.year\n",
    "\n",
    "def split_object(df, column):\n",
    "    \"\"\"Фнукция возращает множество уникальных значений данных столбца\"\"\"\n",
    "    set_column = set()\n",
    "    for row in data[column]:\n",
    "        for j in row.split('|'):       \n",
    "            set_column.add(j)  \n",
    "    return set_column\n",
    "\n",
    "def one_hot_genre_encoding(df, set_column, column):\n",
    "    \"\"\"Функция принимает уникальное множество значений столбца и преобразует их в \n",
    "    one-hot столбцы датафрейма\"\"\"\n",
    "    for obj in set_column:\n",
    "        labels = []\n",
    "        if obj:\n",
    "            for i in range(len(df)):\n",
    "                if obj in df.loc[i][column]:\n",
    "                    labels.append(1)\n",
    "                else:\n",
    "                    labels.append(0)           \n",
    "            df[obj] = labels\n",
    "        else:\n",
    "            continue\n",
    "    return df"
   ]
  },
  {
   "cell_type": "markdown",
   "metadata": {},
   "source": [
    "Для выполнения поставленных задач не требуются все данные датасета. Напишем функцию, которая удалит ненужные текстовые данные, преобразует данные по жанрам и отберет только выпущенные в продакшн фильмы"
   ]
  },
  {
   "cell_type": "code",
   "execution_count": 8,
   "metadata": {},
   "outputs": [],
   "source": [
    "def prepare_data(df):  \n",
    "    \n",
    "    remove_cols = ['genres', 'homepage', 'keywords', 'spoken_languages', 'overview', 'original_title',\n",
    "                  'tagline', 'release_date', 'status','title','production_countries', 'production_companies', \n",
    "                   'original_language']\n",
    "    df['year'] = df['release_date'].apply(get_year)\n",
    "    genres = split_object(data, 'genres')\n",
    "    df = one_hot_genre_encoding(df, genres, 'genres')\n",
    "    df = df.loc[df['status'] == 'Released']\n",
    "    df.drop(remove_cols, axis=1, inplace=True)   \n",
    "    return df"
   ]
  },
  {
   "cell_type": "markdown",
   "metadata": {},
   "source": [
    "Подготовим данные"
   ]
  },
  {
   "cell_type": "code",
   "execution_count": 9,
   "metadata": {},
   "outputs": [
    {
     "name": "stderr",
     "output_type": "stream",
     "text": [
      "C:\\Anaconda\\lib\\site-packages\\pandas\\core\\frame.py:3940: SettingWithCopyWarning: \n",
      "A value is trying to be set on a copy of a slice from a DataFrame\n",
      "\n",
      "See the caveats in the documentation: http://pandas.pydata.org/pandas-docs/stable/indexing.html#indexing-view-versus-copy\n",
      "  errors=errors)\n"
     ]
    }
   ],
   "source": [
    "data = prepare_data(data)"
   ]
  },
  {
   "cell_type": "code",
   "execution_count": 10,
   "metadata": {},
   "outputs": [
    {
     "data": {
      "text/html": [
       "<div>\n",
       "<style scoped>\n",
       "    .dataframe tbody tr th:only-of-type {\n",
       "        vertical-align: middle;\n",
       "    }\n",
       "\n",
       "    .dataframe tbody tr th {\n",
       "        vertical-align: top;\n",
       "    }\n",
       "\n",
       "    .dataframe thead th {\n",
       "        text-align: right;\n",
       "    }\n",
       "</style>\n",
       "<table border=\"1\" class=\"dataframe\">\n",
       "  <thead>\n",
       "    <tr style=\"text-align: right;\">\n",
       "      <th></th>\n",
       "      <th>budget</th>\n",
       "      <th>id</th>\n",
       "      <th>popularity</th>\n",
       "      <th>revenue</th>\n",
       "      <th>runtime</th>\n",
       "      <th>vote_average</th>\n",
       "      <th>vote_count</th>\n",
       "      <th>year</th>\n",
       "      <th>Horror</th>\n",
       "      <th>TV Movie</th>\n",
       "      <th>...</th>\n",
       "      <th>History</th>\n",
       "      <th>Thriller</th>\n",
       "      <th>War</th>\n",
       "      <th>Action</th>\n",
       "      <th>Romance</th>\n",
       "      <th>Crime</th>\n",
       "      <th>Foreign</th>\n",
       "      <th>Mystery</th>\n",
       "      <th>Family</th>\n",
       "      <th>Music</th>\n",
       "    </tr>\n",
       "  </thead>\n",
       "  <tbody>\n",
       "    <tr>\n",
       "      <th>0</th>\n",
       "      <td>237000000</td>\n",
       "      <td>19995</td>\n",
       "      <td>150.437577</td>\n",
       "      <td>2787965087</td>\n",
       "      <td>162.0</td>\n",
       "      <td>7.2</td>\n",
       "      <td>11800</td>\n",
       "      <td>2009.0</td>\n",
       "      <td>0</td>\n",
       "      <td>0</td>\n",
       "      <td>...</td>\n",
       "      <td>0</td>\n",
       "      <td>0</td>\n",
       "      <td>0</td>\n",
       "      <td>1</td>\n",
       "      <td>0</td>\n",
       "      <td>0</td>\n",
       "      <td>0</td>\n",
       "      <td>0</td>\n",
       "      <td>0</td>\n",
       "      <td>0</td>\n",
       "    </tr>\n",
       "    <tr>\n",
       "      <th>1</th>\n",
       "      <td>300000000</td>\n",
       "      <td>285</td>\n",
       "      <td>139.082615</td>\n",
       "      <td>961000000</td>\n",
       "      <td>169.0</td>\n",
       "      <td>6.9</td>\n",
       "      <td>4500</td>\n",
       "      <td>2007.0</td>\n",
       "      <td>0</td>\n",
       "      <td>0</td>\n",
       "      <td>...</td>\n",
       "      <td>0</td>\n",
       "      <td>0</td>\n",
       "      <td>0</td>\n",
       "      <td>1</td>\n",
       "      <td>0</td>\n",
       "      <td>0</td>\n",
       "      <td>0</td>\n",
       "      <td>0</td>\n",
       "      <td>0</td>\n",
       "      <td>0</td>\n",
       "    </tr>\n",
       "    <tr>\n",
       "      <th>2</th>\n",
       "      <td>245000000</td>\n",
       "      <td>206647</td>\n",
       "      <td>107.376788</td>\n",
       "      <td>880674609</td>\n",
       "      <td>148.0</td>\n",
       "      <td>6.3</td>\n",
       "      <td>4466</td>\n",
       "      <td>2015.0</td>\n",
       "      <td>0</td>\n",
       "      <td>0</td>\n",
       "      <td>...</td>\n",
       "      <td>0</td>\n",
       "      <td>0</td>\n",
       "      <td>0</td>\n",
       "      <td>1</td>\n",
       "      <td>0</td>\n",
       "      <td>1</td>\n",
       "      <td>0</td>\n",
       "      <td>0</td>\n",
       "      <td>0</td>\n",
       "      <td>0</td>\n",
       "    </tr>\n",
       "    <tr>\n",
       "      <th>3</th>\n",
       "      <td>250000000</td>\n",
       "      <td>49026</td>\n",
       "      <td>112.312950</td>\n",
       "      <td>1084939099</td>\n",
       "      <td>165.0</td>\n",
       "      <td>7.6</td>\n",
       "      <td>9106</td>\n",
       "      <td>2012.0</td>\n",
       "      <td>0</td>\n",
       "      <td>0</td>\n",
       "      <td>...</td>\n",
       "      <td>0</td>\n",
       "      <td>1</td>\n",
       "      <td>0</td>\n",
       "      <td>1</td>\n",
       "      <td>0</td>\n",
       "      <td>1</td>\n",
       "      <td>0</td>\n",
       "      <td>0</td>\n",
       "      <td>0</td>\n",
       "      <td>0</td>\n",
       "    </tr>\n",
       "    <tr>\n",
       "      <th>4</th>\n",
       "      <td>260000000</td>\n",
       "      <td>49529</td>\n",
       "      <td>43.926995</td>\n",
       "      <td>284139100</td>\n",
       "      <td>132.0</td>\n",
       "      <td>6.1</td>\n",
       "      <td>2124</td>\n",
       "      <td>2012.0</td>\n",
       "      <td>0</td>\n",
       "      <td>0</td>\n",
       "      <td>...</td>\n",
       "      <td>0</td>\n",
       "      <td>0</td>\n",
       "      <td>0</td>\n",
       "      <td>1</td>\n",
       "      <td>0</td>\n",
       "      <td>0</td>\n",
       "      <td>0</td>\n",
       "      <td>0</td>\n",
       "      <td>0</td>\n",
       "      <td>0</td>\n",
       "    </tr>\n",
       "  </tbody>\n",
       "</table>\n",
       "<p>5 rows × 28 columns</p>\n",
       "</div>"
      ],
      "text/plain": [
       "      budget      id  popularity     revenue  runtime  vote_average  \\\n",
       "0  237000000   19995  150.437577  2787965087    162.0           7.2   \n",
       "1  300000000     285  139.082615   961000000    169.0           6.9   \n",
       "2  245000000  206647  107.376788   880674609    148.0           6.3   \n",
       "3  250000000   49026  112.312950  1084939099    165.0           7.6   \n",
       "4  260000000   49529   43.926995   284139100    132.0           6.1   \n",
       "\n",
       "   vote_count    year  Horror  TV Movie  ...  History  Thriller  War  Action  \\\n",
       "0       11800  2009.0       0         0  ...        0         0    0       1   \n",
       "1        4500  2007.0       0         0  ...        0         0    0       1   \n",
       "2        4466  2015.0       0         0  ...        0         0    0       1   \n",
       "3        9106  2012.0       0         0  ...        0         1    0       1   \n",
       "4        2124  2012.0       0         0  ...        0         0    0       1   \n",
       "\n",
       "   Romance  Crime  Foreign  Mystery  Family  Music  \n",
       "0        0      0        0        0       0      0  \n",
       "1        0      0        0        0       0      0  \n",
       "2        0      1        0        0       0      0  \n",
       "3        0      1        0        0       0      0  \n",
       "4        0      0        0        0       0      0  \n",
       "\n",
       "[5 rows x 28 columns]"
      ]
     },
     "execution_count": 10,
     "metadata": {},
     "output_type": "execute_result"
    }
   ],
   "source": [
    "data.head()"
   ]
  },
  {
   "cell_type": "markdown",
   "metadata": {},
   "source": [
    "Рассчитаем среднюю поппулярность жанров фильмов, выпущенных до 1990 года и после 1990 года"
   ]
  },
  {
   "cell_type": "code",
   "execution_count": 11,
   "metadata": {},
   "outputs": [],
   "source": [
    "def get_genre_info_by_year(df, genres, year_condition):\n",
    "    \"\"\"Функция принимает датасет с данными, массив с жанрами и условие отбора\n",
    "       возвращает датафярейм, содержащий название жанра и его среднее значение популярности\"\"\"\n",
    "    \n",
    "    genre_pop_means = []    \n",
    "    for g in genres:\n",
    "        clean_df = df.loc[year_condition & (df[g] == 1), 'popularity']\n",
    "        popular_mean = clean_df.mean()\n",
    "        genre_pop_means.append(popular_mean)\n",
    "    genre_data = pd.DataFrame({'genre': genres, 'mean_popularity': genre_pop_means}).\\\n",
    "                                sort_values('mean_popularity', ascending=False)\n",
    "    genre_data.loc[genre_data['mean_popularity'].isna(), 'mean_popularity'] = 0\n",
    "    return genre_data"
   ]
  },
  {
   "cell_type": "code",
   "execution_count": 12,
   "metadata": {},
   "outputs": [
    {
     "data": {
      "text/html": [
       "<div>\n",
       "<style scoped>\n",
       "    .dataframe tbody tr th:only-of-type {\n",
       "        vertical-align: middle;\n",
       "    }\n",
       "\n",
       "    .dataframe tbody tr th {\n",
       "        vertical-align: top;\n",
       "    }\n",
       "\n",
       "    .dataframe thead th {\n",
       "        text-align: right;\n",
       "    }\n",
       "</style>\n",
       "<table border=\"1\" class=\"dataframe\">\n",
       "  <thead>\n",
       "    <tr style=\"text-align: right;\">\n",
       "      <th></th>\n",
       "      <th>mean_popularity</th>\n",
       "    </tr>\n",
       "    <tr>\n",
       "      <th>genre</th>\n",
       "      <th></th>\n",
       "    </tr>\n",
       "  </thead>\n",
       "  <tbody>\n",
       "    <tr>\n",
       "      <th>Animation</th>\n",
       "      <td>33.689709</td>\n",
       "    </tr>\n",
       "    <tr>\n",
       "      <th>Fantasy</th>\n",
       "      <td>25.680032</td>\n",
       "    </tr>\n",
       "    <tr>\n",
       "      <th>Science Fiction</th>\n",
       "      <td>24.753144</td>\n",
       "    </tr>\n",
       "    <tr>\n",
       "      <th>Adventure</th>\n",
       "      <td>23.713802</td>\n",
       "    </tr>\n",
       "    <tr>\n",
       "      <th>Family</th>\n",
       "      <td>22.935002</td>\n",
       "    </tr>\n",
       "  </tbody>\n",
       "</table>\n",
       "</div>"
      ],
      "text/plain": [
       "                 mean_popularity\n",
       "genre                           \n",
       "Animation              33.689709\n",
       "Fantasy                25.680032\n",
       "Science Fiction        24.753144\n",
       "Adventure              23.713802\n",
       "Family                 22.935002"
      ]
     },
     "execution_count": 12,
     "metadata": {},
     "output_type": "execute_result"
    }
   ],
   "source": [
    "genres = data.columns[8:]\n",
    "before_1990 = get_genre_info_by_year(data, genres, data['year'] <= 1990)\n",
    "after_1990 = get_genre_info_by_year(data, genres, data['year'] > 1990)\n",
    "before_1990.set_index('genre', inplace=True)\n",
    "after_1990.set_index('genre', inplace=True)\n",
    "before_1990.head()"
   ]
  },
  {
   "cell_type": "markdown",
   "metadata": {},
   "source": [
    "Построим столбчатую диаграмму средней популярности жанров за 2 периода"
   ]
  },
  {
   "cell_type": "code",
   "execution_count": 13,
   "metadata": {},
   "outputs": [
    {
     "data": {
      "image/png": "[encoded data removed]",
      "text/plain": [
       "<Figure size 1152x576 with 1 Axes>"
      ]
     },
     "metadata": {
      "needs_background": "light"
     },
     "output_type": "display_data"
    }
   ],
   "source": [
    "plt.figure(figsize=(16,8))\n",
    "plt.bar(before_1990.index, before_1990 ['mean_popularity'], color='b', alpha=0.5, label='before_1990')\n",
    "plt.bar(after_1990.index, after_1990 ['mean_popularity'], color='r', alpha=0.2, label='after_1990')\n",
    "plt.xticks(rotation='90')\n",
    "plt.legend();"
   ]
  },
  {
   "cell_type": "markdown",
   "metadata": {},
   "source": [
    "До 1990 года самым популярным жанром были анимационные фильмы, фентези и научная фантастика. но после 1990 года  в лидеры вырывается приключенческое кино. При этом анимационные фильмы, фентези и научная фантастика сохраняют свои позиции. Так же в это время заметен рехкий скачок популярности на экшены и мистику. Посмотри 5 жанров, которые имеют наибольшую динамику роста популярности в последнее время"
   ]
  },
  {
   "cell_type": "code",
   "execution_count": 14,
   "metadata": {},
   "outputs": [
    {
     "data": {
      "text/html": [
       "<div>\n",
       "<style scoped>\n",
       "    .dataframe tbody tr th:only-of-type {\n",
       "        vertical-align: middle;\n",
       "    }\n",
       "\n",
       "    .dataframe tbody tr th {\n",
       "        vertical-align: top;\n",
       "    }\n",
       "\n",
       "    .dataframe thead th {\n",
       "        text-align: right;\n",
       "    }\n",
       "</style>\n",
       "<table border=\"1\" class=\"dataframe\">\n",
       "  <thead>\n",
       "    <tr style=\"text-align: right;\">\n",
       "      <th></th>\n",
       "      <th>mean_popularity</th>\n",
       "    </tr>\n",
       "    <tr>\n",
       "      <th>genre</th>\n",
       "      <th></th>\n",
       "    </tr>\n",
       "  </thead>\n",
       "  <tbody>\n",
       "    <tr>\n",
       "      <th>Adventure</th>\n",
       "      <td>18.702967</td>\n",
       "    </tr>\n",
       "    <tr>\n",
       "      <th>Science Fiction</th>\n",
       "      <td>14.313250</td>\n",
       "    </tr>\n",
       "    <tr>\n",
       "      <th>Fantasy</th>\n",
       "      <td>12.138430</td>\n",
       "    </tr>\n",
       "    <tr>\n",
       "      <th>Action</th>\n",
       "      <td>10.874172</td>\n",
       "    </tr>\n",
       "    <tr>\n",
       "      <th>Mystery</th>\n",
       "      <td>8.731739</td>\n",
       "    </tr>\n",
       "  </tbody>\n",
       "</table>\n",
       "</div>"
      ],
      "text/plain": [
       "                 mean_popularity\n",
       "genre                           \n",
       "Adventure              18.702967\n",
       "Science Fiction        14.313250\n",
       "Fantasy                12.138430\n",
       "Action                 10.874172\n",
       "Mystery                 8.731739"
      ]
     },
     "execution_count": 14,
     "metadata": {},
     "output_type": "execute_result"
    }
   ],
   "source": [
    "best_popularity = np.abs(before_1990 - after_1990).sort_values(by='mean_popularity', ascending=False)[:5]\n",
    "best_popularity"
   ]
  },
  {
   "cell_type": "markdown",
   "metadata": {},
   "source": [
    "Как и на графике лидером становятся приключенческие фильмы. Проверим с помощью однофакторного дисперсионного анализа действительтно ли приключенческие фильмы выпущенные после 1990 года в среднем лучше приключений выпущенных до 1990 года"
   ]
  },
  {
   "cell_type": "code",
   "execution_count": 15,
   "metadata": {},
   "outputs": [],
   "source": [
    "from scipy import stats"
   ]
  },
  {
   "cell_type": "code",
   "execution_count": 16,
   "metadata": {},
   "outputs": [],
   "source": [
    "def variance_analysis(y, y1, y2, alpha=0.05):\n",
    "    \"\"\"Реализация дисперсионного анализа. Функция выводит статистическую значимость\n",
    "    разницы средних\"\"\"\n",
    "    y1_mean = y1.mean()\n",
    "    y2_mean = y2.mean()\n",
    "    y_mean  = y.mean()\n",
    "    n1 = y1.shape[0]\n",
    "    n2 = y2.shape[0]\n",
    "    print(f'среднее y1 = {round(y1_mean, 2)}\\n'\n",
    "          f'среднее y2 = {round(y2_mean, 2)}')\n",
    "    S2_F = n1 * (y1_mean - y_mean) ** 2 + n2 * (y2_mean - y_mean) ** 2\n",
    "    S2_res = ((y1  - y1_mean) ** 2).sum() + ((y2 - y2_mean) ** 2).sum() \n",
    "   \n",
    "    k = 2\n",
    "    n = n1 + n2\n",
    "    k1 = k - 1\n",
    "    k2 = n - k\n",
    "    sigma2_F = S2_F / k1\n",
    "    sigma2_res = S2_res / k2        \n",
    "    T = sigma2_F / sigma2_res\n",
    "    F_crit = stats.f.ppf(1 - alpha, k1, k2)\n",
    "\n",
    "    if T > F_crit:\n",
    "        print(f'T {round(T, 2)} > F_crit {round(F_crit, 2)}, Разница средних статистически значима')\n",
    "    else:\n",
    "        print(f'T {round(T, 2)} <= F_crit {round(F_crit, 2)}, Разница средних статистически незначима')    "
   ]
  },
  {
   "cell_type": "code",
   "execution_count": 17,
   "metadata": {},
   "outputs": [
    {
     "name": "stdout",
     "output_type": "stream",
     "text": [
      "среднее y1 = 6.43\n",
      "среднее y2 = 6.1\n",
      "T 14.75 > F_crit 3.85, Разница средних статистически значима\n"
     ]
    }
   ],
   "source": [
    "y1 = data.loc[(data['Adventure'] == 1) & (data['year'] <= 1990), 'vote_average']\n",
    "y2 = data.loc[(data['Adventure'] == 1) & (data['year'] > 1990), 'vote_average']\n",
    "y =  data.loc[(data['Adventure'] == 1), 'vote_average']\n",
    "variance_analysis(y, y1, y2)"
   ]
  },
  {
   "cell_type": "markdown",
   "metadata": {},
   "source": [
    "Приключения до 1990 года имеют больший средний рейтинг (6.43) чем приключения вышедшие после (6.1). Возможно это связано с тем, что приключенческие фильмы приносят больше дохода и много кинокомпаний просто ради выгоды клепают кино по шаблону. Проверим, что современные приключенческие фильмы приносят больше дохода"
   ]
  },
  {
   "cell_type": "code",
   "execution_count": 18,
   "metadata": {},
   "outputs": [
    {
     "name": "stdout",
     "output_type": "stream",
     "text": [
      "среднее y1 = 100704144.84\n",
      "среднее y2 = 230514323.12\n",
      "T 23.67 > F_crit 3.85, Разница средних статистически значима\n"
     ]
    }
   ],
   "source": [
    "y1 = data.loc[(data['Adventure'] == 1) & (data['year'] <= 1990), 'revenue']\n",
    "y2 = data.loc[(data['Adventure'] == 1) & (data['year'] > 1990), 'revenue']\n",
    "y =  data.loc[(data['Adventure'] == 1), 'revenue']\n",
    "variance_analysis(y, y1, y2)"
   ]
  },
  {
   "cell_type": "markdown",
   "metadata": {},
   "source": [
    "Средний доход от прокатов приключенческих фильмов после 1990 года вырос более чем в 2 раза. Неизвестно, как в данных учитывается инфляция, но мы видим значительный прирост доходности"
   ]
  },
  {
   "cell_type": "markdown",
   "metadata": {},
   "source": [
    "С помощью коэффициента корреляции Пирсона посмотрим какиеи факторы влияют на доходность фильма"
   ]
  },
  {
   "cell_type": "code",
   "execution_count": 19,
   "metadata": {},
   "outputs": [
    {
     "data": {
      "text/plain": [
       "revenue            1.000000\n",
       "vote_count         0.756177\n",
       "budget             0.705353\n",
       "popularity         0.602186\n",
       "Adventure          0.344104\n",
       "runtime            0.233073\n",
       "Fantasy            0.216269\n",
       "Animation          0.210431\n",
       "Family             0.200386\n",
       "Action             0.187926\n",
       "vote_average       0.187659\n",
       "year               0.147604\n",
       "Science Fiction    0.142215\n",
       "id                 0.030131\n",
       "War               -0.021624\n",
       "Foreign           -0.025559\n",
       "Mystery           -0.030833\n",
       "Thriller          -0.037593\n",
       "Western           -0.039949\n",
       "Music             -0.042764\n",
       "Comedy            -0.049745\n",
       "History           -0.050481\n",
       "Documentary       -0.055921\n",
       "Romance           -0.071691\n",
       "Crime             -0.078603\n",
       "Horror            -0.097334\n",
       "Drama             -0.189108\n",
       "TV Movie                NaN\n",
       "Name: revenue, dtype: float64"
      ]
     },
     "execution_count": 19,
     "metadata": {},
     "output_type": "execute_result"
    }
   ],
   "source": [
    "data = data.loc[(data['revenue'] > 0) & (data['budget'] > 0)] #Отбор фильмо с известным бюджетом и доходом\n",
    "data.corr()['revenue'].sort_values(ascending=False)"
   ]
  },
  {
   "cell_type": "markdown",
   "metadata": {},
   "source": [
    "Мы видим, что значение дохода существенно зависмит от количество людей, посмотревших фильм и поставивших оценку, от размера бюджета и уровня популярности. Так же среди жанров наибольшее влияние на доходность оказывает \"приключение\".\n",
    "\n",
    "Попробуем предсказать доходность фильма с помощью линейной регрессии. Так как для будущего фильма среди существенно линейно зависимых факторов известен бюджет, то попробуем построить уравнения зависимости доходности фильма от его бюджета"
   ]
  },
  {
   "cell_type": "markdown",
   "metadata": {},
   "source": [
    "Посмотрим количество уникальных значений бюджета"
   ]
  },
  {
   "cell_type": "code",
   "execution_count": 20,
   "metadata": {},
   "outputs": [
    {
     "data": {
      "text/plain": [
       "385"
      ]
     },
     "execution_count": 20,
     "metadata": {},
     "output_type": "execute_result"
    }
   ],
   "source": [
    "data['budget'].nunique()"
   ]
  },
  {
   "cell_type": "markdown",
   "metadata": {},
   "source": [
    "На одно значение бюджета приходится несколько значений доходности. Поэтому мы будем предсказывать средний доход в зависимости от бюджета фильма"
   ]
  },
  {
   "cell_type": "markdown",
   "metadata": {},
   "source": [
    "Вычислим среднюю доходность по бюджетам\n"
   ]
  },
  {
   "cell_type": "code",
   "execution_count": 21,
   "metadata": {},
   "outputs": [],
   "source": [
    "r_data = data.groupby(['budget'], as_index=False)['revenue'].mean().\\\n",
    "        rename(columns={'revenue': 'mean_revenue'})\n",
    "X = np.array(r_data['budget']).reshape(-1 ,1)\n",
    "y = np.array(r_data['mean_revenue']).reshape(-1, 1)"
   ]
  },
  {
   "cell_type": "markdown",
   "metadata": {},
   "source": [
    "Разделим выборку на обучающую и тестовую, затем обучим на ней модель линейой регрессии основаной на методе наименьших квадратов"
   ]
  },
  {
   "cell_type": "code",
   "execution_count": 22,
   "metadata": {},
   "outputs": [],
   "source": [
    "from sklearn.model_selection import train_test_split\n",
    "from sklearn.metrics import r2_score"
   ]
  },
  {
   "cell_type": "code",
   "execution_count": 23,
   "metadata": {},
   "outputs": [],
   "source": [
    "X_train, X_test, y_train, y_test = train_test_split(X, y, random_state=1)"
   ]
  },
  {
   "cell_type": "code",
   "execution_count": 24,
   "metadata": {},
   "outputs": [],
   "source": [
    "class LinearRegression():\n",
    "    def __init__(self):\n",
    "        self._b0 = None\n",
    "        self._b1 = None\n",
    "\n",
    "    def fit(self, X, y):\n",
    "        ones = np.ones((X.shape[0], 1))\n",
    "        X = np.hstack((X, ones))       \n",
    "        XTX = X.T.dot(X)\n",
    "        det = np.linalg.det(XTX)\n",
    "       \n",
    "        if det != 0:\n",
    "            XTX_inv = np.linalg.inv(XTX)\n",
    "            b = XTX_inv.dot(X.T).dot(y)            \n",
    "            self._b0 = b[1, 0]\n",
    "            self._b1 = b[0, 0]\n",
    "        else:\n",
    "            raise Exception('Определитель равен нулю')\n",
    "            \n",
    "        return self\n",
    "    \n",
    "    def predict(self, X_test):\n",
    "        return self._b0 + self._b1 * X_test\n",
    "            "
   ]
  },
  {
   "cell_type": "code",
   "execution_count": 25,
   "metadata": {},
   "outputs": [],
   "source": [
    "model = LinearRegression()\n",
    "model.fit(X_train, y_train)\n",
    "pred = model.predict(X_test)"
   ]
  },
  {
   "cell_type": "code",
   "execution_count": 26,
   "metadata": {},
   "outputs": [
    {
     "data": {
      "text/plain": [
       "0.8326357140546665"
      ]
     },
     "execution_count": 26,
     "metadata": {},
     "output_type": "execute_result"
    }
   ],
   "source": [
    "r2_score(y_test, pred)"
   ]
  },
  {
   "cell_type": "code",
   "execution_count": 27,
   "metadata": {},
   "outputs": [
    {
     "data": {
      "image/png": "[encoded data removed]",
      "text/plain": [
       "<Figure size 432x288 with 1 Axes>"
      ]
     },
     "metadata": {
      "needs_background": "light"
     },
     "output_type": "display_data"
    }
   ],
   "source": [
    "plt.scatter(X_test, y_test)\n",
    "plt.plot(X_test, pred, color='r');"
   ]
  },
  {
   "cell_type": "markdown",
   "metadata": {},
   "source": [
    "Модель достаточно хороша описывает средний доход от уровня бюджета. Уравнение регрессии имеет вид"
   ]
  },
  {
   "cell_type": "code",
   "execution_count": 28,
   "metadata": {},
   "outputs": [
    {
     "name": "stdout",
     "output_type": "stream",
     "text": [
      " y = 6481566.3521673065 + 3.0423650186109237 * x\n"
     ]
    }
   ],
   "source": [
    "print(f' y = {model._b0} + {model._b1} * x')"
   ]
  }
 ],
 "metadata": {
  "kernelspec": {
   "display_name": "Python 3",
   "language": "python",
   "name": "python3"
  },
  "language_info": {
   "codemirror_mode": {
    "name": "ipython",
    "version": 3
   },
   "file_extension": ".py",
   "mimetype": "text/x-python",
   "name": "python",
   "nbconvert_exporter": "python",
   "pygments_lexer": "ipython3",
   "version": "3.7.3"
  }
 },
 "nbformat": 4,
 "nbformat_minor": 2
}
